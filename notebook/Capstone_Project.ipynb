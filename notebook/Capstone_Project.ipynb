{
 "cells": [
  {
   "cell_type": "code",
   "execution_count": null,
   "id": "4ee950e6",
   "metadata": {},
   "outputs": [],
   "source": [
    "from sqlalchemy import create_engine, text\n",
    "import psycopg2\n",
    "import pandas as pd\n",
    "import matplotlib.pyplot as plt\n",
    "import pandas as pd   \n",
    "import numpy as np  \n",
    "import pandas as pd\n",
    "import matplotlib.pyplot as plt"
   ]
  },
  {
   "cell_type": "code",
   "execution_count": null,
   "id": "42a2588c",
   "metadata": {},
   "outputs": [],
   "source": []
  },
  {
   "cell_type": "code",
   "execution_count": null,
   "id": "4d39f789",
   "metadata": {},
   "outputs": [],
   "source": [
    "CBS2022 = pd.read_excel('..\\data\\CBS.xlsx', sheet_name = '2022')"
   ]
  },
  {
   "cell_type": "code",
   "execution_count": null,
   "id": "6145f957",
   "metadata": {},
   "outputs": [],
   "source": [
    "CBS2021 = pd.read_excel('..\\data\\CBS.xlsx', sheet_name = '2021')"
   ]
  },
  {
   "cell_type": "code",
   "execution_count": null,
   "id": "b4c696ee",
   "metadata": {},
   "outputs": [],
   "source": [
    "CBS2020 = pd.read_excel('..\\data\\CBS.xlsx', sheet_name = '2020')"
   ]
  },
  {
   "cell_type": "code",
   "execution_count": null,
   "id": "d7620700",
   "metadata": {},
   "outputs": [],
   "source": [
    "CBS2019 = pd.read_excel('..\\data\\CBS.xlsx', sheet_name = '2019')"
   ]
  },
  {
   "cell_type": "code",
   "execution_count": null,
   "id": "2cfbde93",
   "metadata": {},
   "outputs": [],
   "source": [
    "CBS2018 = pd.read_excel('..\\data\\CBS.xlsx', sheet_name = '2018')"
   ]
  },
  {
   "cell_type": "code",
   "execution_count": null,
   "id": "e6fb2b49",
   "metadata": {},
   "outputs": [],
   "source": [
    "CBS2017 = pd.read_excel('..\\data\\CBS.xlsx', sheet_name = '2017')"
   ]
  },
  {
   "cell_type": "code",
   "execution_count": null,
   "id": "4874f460",
   "metadata": {},
   "outputs": [],
   "source": [
    "CBS2016 = pd.read_excel('..\\data\\CBS.xlsx', sheet_name = '2016') #explore rows on down"
   ]
  },
  {
   "cell_type": "code",
   "execution_count": null,
   "id": "9745aa53",
   "metadata": {},
   "outputs": [],
   "source": [
    "CBS2015 = pd.read_excel('..\\data\\CBS.xlsx', sheet_name = '2015')"
   ]
  },
  {
   "cell_type": "code",
   "execution_count": null,
   "id": "41e4562f",
   "metadata": {},
   "outputs": [],
   "source": [
    "CBS2014 = pd.read_excel('..\\data\\CBS.xlsx', sheet_name = '2014')"
   ]
  },
  {
   "cell_type": "code",
   "execution_count": null,
   "id": "e88c0d19",
   "metadata": {},
   "outputs": [],
   "source": [
    "CBS2013 = pd.read_csv(\"..\\data\\CBS2013.csv\")"
   ]
  },
  {
   "cell_type": "code",
   "execution_count": null,
   "id": "425a0ed3",
   "metadata": {},
   "outputs": [],
   "source": [
    "CBS2012 = pd.read_csv(\"..\\data\\CBS2012.csv\")"
   ]
  },
  {
   "cell_type": "code",
   "execution_count": null,
   "id": "36484fe1",
   "metadata": {},
   "outputs": [],
   "source": [
    "CBS2011 = pd.read_csv(\"..\\data\\CBS2011.csv\")"
   ]
  },
  {
   "cell_type": "code",
   "execution_count": null,
   "id": "73ccdc36",
   "metadata": {},
   "outputs": [],
   "source": [
    "CBS2010 = pd.read_csv(\"..\\data\\CBS2010.csv\")"
   ]
  },
  {
   "cell_type": "code",
   "execution_count": null,
   "id": "2071b9f4",
   "metadata": {},
   "outputs": [],
   "source": [
    "CBS2009 = pd.read_csv(\"..\\data\\CBS2009.csv\")"
   ]
  },
  {
   "cell_type": "code",
   "execution_count": null,
   "id": "bc14b5db",
   "metadata": {},
   "outputs": [],
   "source": [
    "CBS2008 = pd.read_csv(\"..\\data\\CBS2008.csv\")"
   ]
  },
  {
   "cell_type": "code",
   "execution_count": null,
   "id": "efaea60a",
   "metadata": {},
   "outputs": [],
   "source": [
    "CBS2007 = pd.read_csv(\"..\\data\\CBS2007.csv\")"
   ]
  },
  {
   "cell_type": "code",
   "execution_count": null,
   "id": "59b67ad6",
   "metadata": {},
   "outputs": [],
   "source": []
  },
  {
   "cell_type": "code",
   "execution_count": null,
   "id": "b98f41d3",
   "metadata": {},
   "outputs": [],
   "source": [
    "CBS2022.head()"
   ]
  },
  {
   "cell_type": "code",
   "execution_count": null,
   "id": "8ffa748a",
   "metadata": {},
   "outputs": [],
   "source": [
    "CBS2013.head()"
   ]
  },
  {
   "cell_type": "code",
   "execution_count": null,
   "id": "23e8bf4e",
   "metadata": {},
   "outputs": [],
   "source": []
  }
 ],
 "metadata": {
  "kernelspec": {
   "display_name": "Python 3 (ipykernel)",
   "language": "python",
   "name": "python3"
  },
  "language_info": {
   "codemirror_mode": {
    "name": "ipython",
    "version": 3
   },
   "file_extension": ".py",
   "mimetype": "text/x-python",
   "name": "python",
   "nbconvert_exporter": "python",
   "pygments_lexer": "ipython3",
   "version": "3.11.3"
  }
 },
 "nbformat": 4,
 "nbformat_minor": 5
}
